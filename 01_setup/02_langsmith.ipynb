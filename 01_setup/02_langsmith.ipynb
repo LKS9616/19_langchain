{
 "cells": [
  {
   "cell_type": "markdown",
   "metadata": {},
   "source": [
    "### LangSmith\n",
    "\n",
    "* LangChain 어플리케이션의 개발, 테스트, 모니터링 및 배포를 위한 플랫폼\n",
    "* LLM 기반 어플리케이션의 전체 생명주기를 관리하는 데 도움을 받을 수 있다.\n",
    "\n",
    "1. 디버깅 : 복잡한 LLM 체인과 에이전트의 실행을 추적하고 시각화\n",
    "2. 테스팅 : 다양한 입력에 대한 모델의 성능을 평가하고 회귀를 방지\n",
    "3. 모니터링 : 프로덕션 환경에서 어플리케이션의 성능과 사용량을 추적"
   ]
  },
  {
   "cell_type": "code",
   "execution_count": 2,
   "metadata": {},
   "outputs": [
    {
     "data": {
      "text/plain": [
       "True"
      ]
     },
     "execution_count": 2,
     "metadata": {},
     "output_type": "execute_result"
    }
   ],
   "source": [
    "# API KEY를 환경변수로 관리하기 위한 설정 파일\n",
    "from dotenv import load_dotenv\n",
    "\n",
    "# API KEY 정보 로드\n",
    "load_dotenv(dotenv_path=\"../.env\")"
   ]
  },
  {
   "cell_type": "code",
   "execution_count": 4,
   "metadata": {},
   "outputs": [
    {
     "name": "stdout",
     "output_type": "stream",
     "text": [
      "[답변] : content='포켓몬 세계에서 가장 강력한 몬스터는 여러 가지 기준에 따라 다를 수 있지만, 일반적으로 \"아르세우스\"가 가장 강력한 포켓몬으로 여겨집니다. 아르세우스는 \"신의 포켓몬\"으로 불리며, 모든 포켓몬의 창조주로 알려져 있습니다. 또한, 아르세우스는 다양한 타입으로 변환할 수 있는 능력을 가지고 있어 매우 유연한 전투 스타일을 자랑합니다.\\n\\n또한, \"메가 레쿠자\", \"프리즘 레이\", \"무지개 포켓몬\" 등도 강력한 포켓몬으로 자주 언급됩니다. 각 포켓몬의 강력함은 전투 상황, 전략, 팀 구성 등에 따라 달라질 수 있으므로, 특정 포켓몬이 항상 가장 강력하다고 단정짓기는 어렵습니다.' additional_kwargs={'refusal': None} response_metadata={'token_usage': {'completion_tokens': 193, 'prompt_tokens': 27, 'total_tokens': 220, 'completion_tokens_details': {'audio_tokens': None, 'reasoning_tokens': 0}, 'prompt_tokens_details': {'audio_tokens': None, 'cached_tokens': 0}}, 'model_name': 'gpt-4o-mini-2024-07-18', 'system_fingerprint': 'fp_f59a81427f', 'finish_reason': 'stop', 'logprobs': None} id='run-7709b3b2-2c83-44cb-bd5d-9b246744b1ea-0' usage_metadata={'input_tokens': 27, 'output_tokens': 193, 'total_tokens': 220, 'input_token_details': {'cache_read': 0}, 'output_token_details': {'reasoning': 0}}\n"
     ]
    }
   ],
   "source": [
    "from langchain_openai import ChatOpenAI\n",
    "\n",
    "# 모델 객체 생성 \n",
    "lim = ChatOpenAI(\n",
    "    temperature=0.1,\n",
    "    model_name=\"gpt-4o-mini\"\n",
    ")\n",
    "\n",
    "# 질문 생성\n",
    "question = \"포켓몬스 중 가장 강력한 몬스터는 어떤 몬스터인가요?\"\n",
    "\n",
    "print(f\"[답변] : {lim.invoke(question)}\")"
   ]
  },
  {
   "cell_type": "markdown",
   "metadata": {},
   "source": [
    "1. 최신 정보에 대해 학습되어 있지 않다.\n",
    "2. 나, 혹은 서비스, 회사 등에 대한 정보가 학습되어 있지 않음\n",
    "3. "
   ]
  }
 ],
 "metadata": {
  "kernelspec": {
   "display_name": "langchain_env",
   "language": "python",
   "name": "python3"
  },
  "language_info": {
   "codemirror_mode": {
    "name": "ipython",
    "version": 3
   },
   "file_extension": ".py",
   "mimetype": "text/x-python",
   "name": "python",
   "nbconvert_exporter": "python",
   "pygments_lexer": "ipython3",
   "version": "3.11.10"
  }
 },
 "nbformat": 4,
 "nbformat_minor": 2
}
