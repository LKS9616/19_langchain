{
 "cells": [
  {
   "cell_type": "markdown",
   "metadata": {},
   "source": [
    "### Document Loaders\n",
    "**참고 Langchain Document Loader docs**\n",
    "https://python.langchain.com/v0.1/docs/modules/data_connection/document_loaders/csv\n",
    "\n",
    "### Document\n",
    "* Langchain에서 만들어 놓은 기본 문서 객체\n",
    "* 속성\n",
    "    * page_content: 문서의 내용을 나타내는 문자열\n",
    "    * metadata: 문선의 메타데이터를 나타내는 딕셔너리"
   ]
  },
  {
   "cell_type": "code",
   "execution_count": 1,
   "metadata": {},
   "outputs": [],
   "source": [
    "from langchain_core.documents import Document\n",
    "\n",
    "document = Document(page_content=\"우리가 만든 도큐먼트입니다!\")"
   ]
  },
  {
   "cell_type": "code",
   "execution_count": 2,
   "metadata": {},
   "outputs": [
    {
     "data": {
      "text/plain": [
       "{'id': None,\n",
       " 'metadata': {},\n",
       " 'page_content': '우리가 만든 도큐먼트입니다!',\n",
       " 'type': 'Document'}"
      ]
     },
     "execution_count": 2,
     "metadata": {},
     "output_type": "execute_result"
    }
   ],
   "source": [
    "document.__dict__"
   ]
  },
  {
   "cell_type": "code",
   "execution_count": 3,
   "metadata": {},
   "outputs": [],
   "source": [
    "document.metadata[\"page\"] = 1\n",
    "document.metadata[\"author\"] = \"bear\""
   ]
  },
  {
   "cell_type": "markdown",
   "metadata": {},
   "source": [
    "### Document Loader\n",
    "* 다양한 파일 형식으로부터 불러온 내용을 Document 객체로 변환하는 역할\n",
    "\n",
    "**주요 Loader**\n",
    "* PyPDFLoader : PDF 파일을 로드하는 로더\n",
    "* CSVLoader : CSV 파일을 로드하는 로더\n",
    "* UnstrururedHTMLoader : HTML 파일 로드하는 로더\n",
    "* JSONLoader : JSON 파일을 로드하는 로더\n",
    "* TextLoader : 텍스트 파일을 로드하는 로더\n",
    "* DirectoryLoader : 디렉토리 로드하는 로더"
   ]
  },
  {
   "cell_type": "code",
   "execution_count": 4,
   "metadata": {},
   "outputs": [],
   "source": [
    "FILE_PATH = \"./data/snow-white.pdf\""
   ]
  },
  {
   "cell_type": "code",
   "execution_count": 6,
   "metadata": {},
   "outputs": [],
   "source": [
    "from langchain_community.document_loaders import PyPDFLoader\n",
    "\n",
    "loader = PyPDFLoader(FILE_PATH)"
   ]
  },
  {
   "cell_type": "code",
   "execution_count": 7,
   "metadata": {},
   "outputs": [
    {
     "data": {
      "text/plain": [
       "6"
      ]
     },
     "execution_count": 7,
     "metadata": {},
     "output_type": "execute_result"
    }
   ],
   "source": [
    "docs = loader.load()\n",
    "\n",
    "len(docs)"
   ]
  },
  {
   "cell_type": "code",
   "execution_count": 8,
   "metadata": {},
   "outputs": [
    {
     "data": {
      "text/plain": [
       "Document(metadata={'source': './data/snow-white.pdf', 'page': 2}, page_content='숲속을 헤매던 백설공주는 외딴 오두막에 이르렀어요.\\n들여다보니 오두막은 비어 있었어요.\\n“아무도 없네. 좀 쉬어 가도 될까? 어? 신기하다! 모든 게 작아. \\n어어? 이상하다! 모든 게 일곱. 의자도 일곱, 접시도 일곱. 어머, \\n침대도 일곱 개네.”\\n도망치느라 치진 백설공주는 식탁 위에 있던 빵을 먹고 나서\\n일곱 번째 침대에 쓰러져 잠들었어요.\\n밤이 되자 오두막 주인인 일곱 난쟁이가 돌아왔어요.\\n난쟁이들은 집 안이 어질러진 것을 보고 깜짝 놀랐지요.\\n일곱째 난쟁이가 큰 소리로 외쳤어요.\\n“누가 내 침대에서 자고 있어!”\\n북적이는 소리에 잠이 깬 백설공주는 왕비를 피해 도망쳤다고\\n이야기했어요.\\n“불쌍한 공주님, 우리와 함께 살아요. 조심조심 또 조심. 낯선\\n사람에게는 문을 열어 주지 마세요.”\\n며칠이 지나 왕비는 다시 요술 거울에게 누가 가장 아름다운\\n지 물었어요.\\n“왕비님도 아름답지만 백설공주님이 천배는 더 아름답습니다.”\\n“사냥꾼이 날 속였구나. 내가 직접 해치우겠어!”\\n')"
      ]
     },
     "execution_count": 8,
     "metadata": {},
     "output_type": "execute_result"
    }
   ],
   "source": [
    "docs[2]"
   ]
  },
  {
   "cell_type": "markdown",
   "metadata": {},
   "source": [
    "load and split()\n",
    "* splitter를 사용해 문서를 분할하고 반환한다.\n",
    "* 반환된 결과는 List[Document] 형태이다."
   ]
  },
  {
   "cell_type": "code",
   "execution_count": null,
   "metadata": {},
   "outputs": [],
   "source": [
    "from langchain_text_splitters import RecursiveCharacterTextSplitter\n",
    "\n",
    "text_splitter = RecursiveCharacterTextSplitter"
   ]
  },
  {
   "cell_type": "markdown",
   "metadata": {},
   "source": []
  },
  {
   "cell_type": "markdown",
   "metadata": {},
   "source": []
  },
  {
   "cell_type": "markdown",
   "metadata": {},
   "source": []
  },
  {
   "cell_type": "markdown",
   "metadata": {},
   "source": []
  }
 ],
 "metadata": {
  "kernelspec": {
   "display_name": "langchain_env",
   "language": "python",
   "name": "python3"
  },
  "language_info": {
   "codemirror_mode": {
    "name": "ipython",
    "version": 3
   },
   "file_extension": ".py",
   "mimetype": "text/x-python",
   "name": "python",
   "nbconvert_exporter": "python",
   "pygments_lexer": "ipython3",
   "version": "3.11.10"
  }
 },
 "nbformat": 4,
 "nbformat_minor": 2
}
