{
 "cells": [
  {
   "cell_type": "markdown",
   "metadata": {},
   "source": [
    "# LCEL (LangChain Expression Language)\n",
    "* 사용자의 입력 -> 프롬프트 템플릿 -> LLM 모델 전달\n",
    "* 각 단계를 차례로 엮어서 하나의 파이프라인으로 만들어주는 것\n",
    "\n",
    "chain = prompt | model | output_paper"
   ]
  },
  {
   "cell_type": "markdown",
   "metadata": {},
   "source": [
    "### 프롬프트 템플릿\n",
    "* 사용자의 입력 변수를 받아서 완전한 프롬프트 문자열을 만드는 데 사용하는 템플릿\n"
   ]
  },
  {
   "cell_type": "code",
   "execution_count": 16,
   "metadata": {},
   "outputs": [],
   "source": [
    "from langchain_core.prompts import PromptTemplate\n",
    "\n",
    "template = \"{lecture}에 대해 설명해주세요\"\n",
    "\n",
    "prompt_template = PromptTemplate(template=template, input_variables=[\"lecture\"])\n"
   ]
  },
  {
   "cell_type": "code",
   "execution_count": 17,
   "metadata": {},
   "outputs": [
    {
     "ename": "TypeError",
     "evalue": "'dict' object is not callable",
     "output_type": "error",
     "traceback": [
      "\u001b[1;31m---------------------------------------------------------------------------\u001b[0m",
      "\u001b[1;31mTypeError\u001b[0m                                 Traceback (most recent call last)",
      "Cell \u001b[1;32mIn[17], line 1\u001b[0m\n\u001b[1;32m----> 1\u001b[0m lecture \u001b[38;5;241m=\u001b[39m \u001b[38;5;28;43minput\u001b[39;49m\u001b[43m(\u001b[49m\u001b[38;5;124;43m\"\u001b[39;49m\u001b[38;5;124;43m궁금한 과목을 입력하세요 : \u001b[39;49m\u001b[38;5;124;43m\"\u001b[39;49m\u001b[43m)\u001b[49m\n\u001b[0;32m      3\u001b[0m prompt \u001b[38;5;241m=\u001b[39m prompt_template\u001b[38;5;241m.\u001b[39mformat(lecture\u001b[38;5;241m=\u001b[39mlecture)\n\u001b[0;32m      5\u001b[0m \u001b[38;5;28mprint\u001b[39m(prompt)\n",
      "\u001b[1;31mTypeError\u001b[0m: 'dict' object is not callable"
     ]
    }
   ],
   "source": [
    "lecture = input(\"궁금한 과목을 입력하세요 : \")\n",
    "\n",
    "prompt = prompt_template.format(lecture=lecture)\n",
    "\n",
    "print(prompt)"
   ]
  },
  {
   "cell_type": "code",
   "execution_count": 15,
   "metadata": {},
   "outputs": [],
   "source": [
    "from langchain_openai import ChatOpenAI\n",
    "\n",
    "model = ChatOpenAI(\n",
    "    model_name=\"gpt-4o-mini\",\n",
    "    temperature=0.1\n",
    ")\n"
   ]
  },
  {
   "cell_type": "code",
   "execution_count": 14,
   "metadata": {},
   "outputs": [],
   "source": [
    "chain = prompt_template | model "
   ]
  },
  {
   "cell_type": "code",
   "execution_count": 18,
   "metadata": {},
   "outputs": [],
   "source": [
    "# Prompt Template의 변수에 작성할 때는 Dictionary형태로 Key-Value 쌍으로 입력을 줄 수 있다.\n",
    "input = {\"lecture\": \"행체인\"}"
   ]
  },
  {
   "cell_type": "code",
   "execution_count": 13,
   "metadata": {},
   "outputs": [
    {
     "data": {
      "text/plain": [
       "AIMessage(content='행체인(行體鏈, English: Action Chain)은 특정한 행동이나 사건이 연속적으로 연결되어 발생하는 과정을 설명하는 개념입니다. 이 용어는 주로 행동 분석, 심리학, 사회학 등 다양한 분야에서 사용되며, 개인이나 집단의 행동이 어떻게 서로 영향을 미치고 연결되는지를 이해하는 데 도움을 줍니다.\\n\\n행체인은 다음과 같은 요소로 구성될 수 있습니다:\\n\\n1. **행동**: 특정한 행동이나 사건이 시작점이 됩니다.\\n2. **연결**: 한 행동이 다른 행동으로 이어지는 방식. 예를 들어, A라는 행동이 B라는 행동을 유발하는 경우입니다.\\n3. **결과**: 행동의 연속적인 결과로 나타나는 변화나 영향을 의미합니다.\\n\\n행체인을 분석함으로써, 특정 행동의 원인과 결과를 파악하고, 이를 통해 행동을 수정하거나 개선할 수 있는 방법을 모색할 수 있습니다. 예를 들어, 교육 현장에서 학생의 학습 행동을 분석하여, 어떤 요인이 학습 성과에 긍정적 또는 부정적 영향을 미치는지를 이해할 수 있습니다.\\n\\n행체인은 또한 시스템 사고(system thinking)와 관련이 있으며, 복잡한 시스템 내에서의 상호작용을 이해하는 데 중요한 역할을 합니다. 이를 통해 우리는 보다 효과적인 문제 해결 방안을 찾고, 행동 변화 전략을 개발할 수 있습니다.', additional_kwargs={'refusal': None}, response_metadata={'token_usage': {'completion_tokens': 305, 'prompt_tokens': 14, 'total_tokens': 319, 'completion_tokens_details': {'audio_tokens': None, 'reasoning_tokens': 0}, 'prompt_tokens_details': {'audio_tokens': None, 'cached_tokens': 0}}, 'model_name': 'gpt-4o-mini-2024-07-18', 'system_fingerprint': 'fp_f59a81427f', 'finish_reason': 'stop', 'logprobs': None}, id='run-7aafef66-29fa-47c3-a315-2e2fa4ec9dc2-0', usage_metadata={'input_tokens': 14, 'output_tokens': 305, 'total_tokens': 319, 'input_token_details': {'cache_read': 0}, 'output_token_details': {'reasoning': 0}})"
      ]
     },
     "execution_count": 13,
     "metadata": {},
     "output_type": "execute_result"
    }
   ],
   "source": [
    "chain.invoke(input)"
   ]
  },
  {
   "cell_type": "markdown",
   "metadata": {},
   "source": [
    "### 출력 형식 지정(OutPut Parser)\n",
    "\n",
    "* LLM 모델이 응답해주는 내용에 대한 형식을 지정해주는 것"
   ]
  },
  {
   "cell_type": "code",
   "execution_count": 22,
   "metadata": {},
   "outputs": [],
   "source": [
    "from langchain_core.output_parsers import StrOutputParser\n",
    "\n",
    "output_parser = StrOutputParser()"
   ]
  },
  {
   "cell_type": "code",
   "execution_count": 23,
   "metadata": {},
   "outputs": [],
   "source": [
    "chain = prompt_template | model | output_parser"
   ]
  },
  {
   "cell_type": "code",
   "execution_count": 24,
   "metadata": {},
   "outputs": [
    {
     "data": {
      "text/plain": [
       "'행체인(行體鏈, English: Action Chain)은 일반적으로 특정한 행동이나 작업의 흐름을 나타내는 개념으로, 주로 프로세스나 시스템의 단계적 진행을 설명하는 데 사용됩니다. 이 개념은 여러 분야에서 적용될 수 있으며, 특히 비즈니스 프로세스 관리, 소프트웨어 개발, 프로젝트 관리 등에서 중요하게 다뤄집니다.\\n\\n행체인은 다음과 같은 요소로 구성될 수 있습니다:\\n\\n1. **행동(행위)**: 특정 작업이나 활동을 의미합니다. 각 행동은 특정한 목표를 달성하기 위해 수행됩니다.\\n\\n2. **순서**: 행동들이 수행되는 순서를 나타냅니다. 어떤 행동이 다른 행동보다 먼저 수행되어야 할 필요가 있을 수 있습니다.\\n\\n3. **조건**: 특정 행동이 수행되기 위한 조건이나 규칙을 정의합니다. 예를 들어, A 행동이 완료된 후에만 B 행동이 시작될 수 있습니다.\\n\\n4. **결과**: 각 행동의 결과는 다음 행동에 영향을 미칠 수 있습니다. 성공적인 결과는 다음 단계로 진행할 수 있게 하고, 실패한 결과는 다른 경로를 선택하게 할 수 있습니다.\\n\\n행체인은 복잡한 시스템이나 프로세스를 이해하고 최적화하는 데 유용하며, 각 단계에서의 효율성을 분석하고 개선할 수 있는 기초 자료를 제공합니다. 이를 통해 조직이나 개인은 목표를 보다 효과적으로 달성할 수 있습니다.'"
      ]
     },
     "execution_count": 24,
     "metadata": {},
     "output_type": "execute_result"
    }
   ],
   "source": [
    "chain.invoke(input)"
   ]
  },
  {
   "cell_type": "code",
   "execution_count": 34,
   "metadata": {},
   "outputs": [],
   "source": [
    "### 영어 회화를 알려주는 선생님 챗봇\n",
    "### 어떤 상황을 주면 영어회화 + 한글 해석\n",
    "\n",
    "template = \"\"\"\n",
    "당신은 영어를 가르치는 10년차 선생님입니다. 주어진 상황에 맞는 영어 회화를 작성해주세요\n",
    "양식은 [FORMAT]을 참고하여 작성해 주세요.\n",
    "\n",
    "# 상황 : \n",
    "{question} \n",
    "\n",
    "# FORMAT:\n",
    "* 영어 회화: \n",
    "* 한글 해석: \n",
    "\"\"\"\n",
    "\n",
    "#프롬프트 템플릿 작성\n",
    "prompt = PromptTemplate.from_template(template)\n",
    "\n",
    "# 모델 객체 작성\n",
    "model = ChatOpenAI(model_name=\"gpt-4o\")\n",
    "\n",
    "# 문자열 출력 파서 객체 생성\n",
    "output_parser = StrOutputParser()\n"
   ]
  },
  {
   "cell_type": "code",
   "execution_count": 35,
   "metadata": {},
   "outputs": [],
   "source": [
    "# 체인 구성\n",
    "\n",
    "chain = prompt | model | output_parser"
   ]
  },
  {
   "cell_type": "code",
   "execution_count": 36,
   "metadata": {},
   "outputs": [
    {
     "name": "stdout",
     "output_type": "stream",
     "text": [
      "* 영어 회화:\n",
      "  - Waiter: Hello! Welcome to our restaurant. How many people are in your party?\n",
      "  - You: Hello! It's just me today.\n",
      "  - Waiter: Great! Here is the menu. Can I get you something to drink while you decide on your meal?\n",
      "  - You: Yes, I'd like a glass of water, please.\n",
      "  - Waiter: Sure, I'll be right back with your water. Do you need more time to decide on your order?\n",
      "  - You: Actually, I’m ready to order. I’d like to have the grilled chicken salad, please.\n",
      "  - Waiter: Excellent choice! Would you like any appetizers or sides with that?\n",
      "  - You: No, just the salad is fine, thank you.\n",
      "  - Waiter: Alright, your order will be ready shortly. Enjoy your meal!\n",
      "\n",
      "* 한글 해석:\n",
      "  - 웨이터: 안녕하세요! 저희 식당에 오신 것을 환영합니다. 몇 분이세요?\n",
      "  - 당신: 안녕하세요! 오늘은 저 혼자입니다.\n",
      "  - 웨이터: 좋습니다! 여기 메뉴입니다. 음식을 결정하시는 동안 음료를 가져다 드릴까요?\n",
      "  - 당신: 네, 물 한 잔 주세요.\n",
      "  - 웨이터: 알겠습니다. 물은 바로 가져다 드릴게요. 주문하실 준비가 되셨나요?\n",
      "  - 당신: 네, 주문할 준비가 되었어요. 구운 치킨 샐러드를 주세요.\n",
      "  - 웨이터: 훌륭한 선택입니다! 전채 요리나 사이드 메뉴는 필요 없으신가요?\n",
      "  - 당신: 아니요, 샐러드만 있으면 됩니다, 감사합니다.\n",
      "  - 웨이터: 알겠습니다. 주문하신 음식은 곧 준비될 겁니다. 맛있게 드세요!\n"
     ]
    }
   ],
   "source": [
    "# Chain 실행\n",
    "\n",
    "print(chain.invoke({\"question\": \"저는 식당에 가서 음식을 주문하고 싶어요.\"}))"
   ]
  },
  {
   "cell_type": "markdown",
   "metadata": {},
   "source": [
    "여러 가지 재료를 변수로 입력 받고, 재료로 요리할 수 있는 요리의 요리면, 재료, 조리법을 포맷으로 받는 템플릿을 작성하고 문자열 출력 파서로 응답을 받을 수 있게 체인을 구성하세요."
   ]
  },
  {
   "cell_type": "code",
   "execution_count": 43,
   "metadata": {},
   "outputs": [
    {
     "name": "stdout",
     "output_type": "stream",
     "text": [
      "* 재료로 요리할 수 있는 요리의 요리명: 카프레제 샐러드\n",
      "* 재료: 토마토, 모짜렐라 치즈, 신선한 바질 잎, 올리브 오일, 발사믹 식초, 소금, 후추\n",
      "* 재료로 요리할 수 있는 요리의 조리법:\n",
      "  1. 토마토를 얇게 슬라이스합니다.\n",
      "  2. 모짜렐라 치즈도 토마토와 비슷한 두께로 슬라이스합니다.\n",
      "  3. 서빙 접시에 토마토와 치즈를 번갈아 가며 겹쳐서 놓습니다.\n",
      "  4. 신선한 바질 잎을 토마토와 치즈 위에 올립니다.\n",
      "  5. 올리브 오일과 발사믹 식초를 뿌립니다.\n",
      "  6. 소금과 후추로 간을 맞춥니다.\n",
      "  7. 바로 서빙합니다.\n",
      "\n",
      "* 재료로 요리할 수 있는 요리의 요리명: 토마토 치즈 오믈렛\n",
      "* 재료: 토마토, 체다 치즈 또는 모짜렐라 치즈, 계란, 우유, 버터, 소금, 후추\n",
      "* 재료로 요리할 수 있는 요리의 조리법:\n",
      "  1. 토마토를 작은 크기로 깍둑썰기 합니다.\n",
      "  2. 계란을 볼에 깨서 우유, 소금, 후추를 넣고 잘 섞어줍니다.\n",
      "  3. 팬에 버터를 녹이고 계란 혼합물을 부어줍니다.\n",
      "  4. 계란이 반쯤 익으면 썰어둔 토마토와 치즈를 계란 위에 고르게 뿌립니다.\n",
      "  5. 오믈렛의 한쪽을 접어 반달 모양으로 만들어줍니다.\n",
      "  6. 오믈렛이 완전히 익을 때까지 약한 불에서 익힙니다.\n",
      "  7. 접시에 담아 바로 서빙합니다.\n"
     ]
    }
   ],
   "source": [
    "template = \"\"\"\n",
    "당신은 요리사입니다. 재료로 요리할 수 있는 요리의 요리면, 재료, 조리법을 [FORMAT]을 참고하여 작성해 주세요.\n",
    "\n",
    "# 재료 : \n",
    "{ingredients}\n",
    "\n",
    "# FORMAT:\n",
    "* 재료로 요리할 수 있는 요리의 요리명: \n",
    "* 재료: \n",
    "* 재료로 요리할 수 있는 요리의 조리법:\n",
    "\"\"\"\n",
    "\n",
    "#프롬프트 템플릿 작성\n",
    "prompt = PromptTemplate.from_template(template)\n",
    "\n",
    "# 모델 객체 작성(초기화)\n",
    "model = ChatOpenAI(model_name=\"gpt-4o\")\n",
    "\n",
    "# 문자열 출력 파서를 초기화\n",
    "output_parser = StrOutputParser()\n",
    "\n",
    "# 체인 구성\n",
    "chain = prompt | model | output_parser\n",
    "\n",
    "# 완성된 Chain을 실행하여 답변을 얻습니다.\n",
    "print(chain.invoke({\"ingredients\" : [\"토마토\", \"치즈\"]}))"
   ]
  },
  {
   "cell_type": "code",
   "execution_count": 40,
   "metadata": {},
   "outputs": [],
   "source": []
  },
  {
   "cell_type": "code",
   "execution_count": 41,
   "metadata": {},
   "outputs": [
    {
     "ename": "TypeError",
     "evalue": "'dict' object is not callable",
     "output_type": "error",
     "traceback": [
      "\u001b[1;31m---------------------------------------------------------------------------\u001b[0m",
      "\u001b[1;31mTypeError\u001b[0m                                 Traceback (most recent call last)",
      "Cell \u001b[1;32mIn[41], line 3\u001b[0m\n\u001b[0;32m      1\u001b[0m \u001b[38;5;66;03m# Chain 실행\u001b[39;00m\n\u001b[1;32m----> 3\u001b[0m ingredient \u001b[38;5;241m=\u001b[39m \u001b[38;5;28;43minput\u001b[39;49m\u001b[43m(\u001b[49m\u001b[38;5;124;43m\"\u001b[39;49m\u001b[38;5;124;43m재료를 입력하세요 : \u001b[39;49m\u001b[38;5;124;43m\"\u001b[39;49m\u001b[43m)\u001b[49m\n\u001b[0;32m      5\u001b[0m prompt \u001b[38;5;241m=\u001b[39m prompt_template\u001b[38;5;241m.\u001b[39mformat(ingredient\u001b[38;5;241m=\u001b[39mingredient)\n\u001b[0;32m      7\u001b[0m \u001b[38;5;28mprint\u001b[39m(chain\u001b[38;5;241m.\u001b[39minvoke({\u001b[38;5;124m\"\u001b[39m\u001b[38;5;124mtemplate\u001b[39m\u001b[38;5;124m\"\u001b[39m}))\n",
      "\u001b[1;31mTypeError\u001b[0m: 'dict' object is not callable"
     ]
    }
   ],
   "source": [
    "# Chain 실행\n",
    "\n",
    "ingredient = input(\"재료를 입력하세요 : \")\n",
    "\n",
    "prompt = prompt_template.format(ingredient=ingredient)\n",
    "\n",
    "print(chain.invoke({\"template\"}))"
   ]
  }
 ],
 "metadata": {
  "kernelspec": {
   "display_name": "langchain_env",
   "language": "python",
   "name": "python3"
  },
  "language_info": {
   "codemirror_mode": {
    "name": "ipython",
    "version": 3
   },
   "file_extension": ".py",
   "mimetype": "text/x-python",
   "name": "python",
   "nbconvert_exporter": "python",
   "pygments_lexer": "ipython3",
   "version": "3.11.10"
  }
 },
 "nbformat": 4,
 "nbformat_minor": 2
}
